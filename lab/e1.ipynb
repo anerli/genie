{
 "cells": [
  {
   "cell_type": "code",
   "execution_count": 1,
   "metadata": {},
   "outputs": [],
   "source": [
    "from dotenv import load_dotenv\n",
    "from langchain.chat_models import ChatOpenAI\n",
    "from langchain.prompts import ChatPromptTemplate, SystemMessagePromptTemplate\n",
    "\n",
    "load_dotenv()"
   ]
  },
  {
   "cell_type": "code",
   "execution_count": 7,
   "metadata": {},
   "outputs": [],
   "source": [
    "llm = ChatOpenAI(temperature=1.0)"
   ]
  },
  {
   "cell_type": "code",
   "execution_count": 10,
   "metadata": {},
   "outputs": [
    {
     "data": {
      "text/plain": [
       "'WRITE 1\\nBeginning of simulation, write 1 to the tape.'"
      ]
     },
     "execution_count": 10,
     "metadata": {},
     "output_type": "execute_result"
    }
   ],
   "source": [
    "prelude='''\n",
    "You control the head of a turing machine.\n",
    "Instead of having a state and transition table, you decide whether the head should write a symbol, or move to either side.\n",
    "Your possible actions are:\n",
    "\n",
    "WRITE <SYMBOL>\n",
    "LEFT\n",
    "RIGHT\n",
    "\n",
    "Respond with only one action, then on the next line type only the new state description by itself.\n",
    "\n",
    "For example:\n",
    "\n",
    "```\n",
    "WRITE #\n",
    "Crazy description, setting this thing to blank \n",
    "```\n",
    "\n",
    "State names can be any arbitrary string. You will only recall the state name and current symbol at each iteration,\n",
    "so the state a descriptive name.\n",
    "\n",
    "'#' represents the empty symbol.\n",
    "\n",
    "Objective: Fill the first 9 positions of the tape with numbers 1-9.\n",
    "'''[1:-1]\n",
    "\n",
    "data_template='''\n",
    "Current data:\n",
    "STATE = {state}\n",
    "SYMBOL = {symbol}\n",
    "'''[:-1]\n",
    "\n",
    "llm.predict(prelude + data_template.format(state=\"Beginning of simulation, tape is blank!\", symbol=\"#\"))"
   ]
  },
  {
   "cell_type": "code",
   "execution_count": null,
   "metadata": {},
   "outputs": [],
   "source": [
    "prelude='''\n",
    "You control the head of a turing machine.\n",
    "Instead of having a state and transition table, you decide whether the head should write a symbol, or move to either side.\n",
    "Your possible actions are:\n",
    "\n",
    "WRITE <SYMBOL>\n",
    "LEFT\n",
    "RIGHT\n",
    "\n",
    "Respond with only one action.\n",
    "Objective: Fill the first 9 positions of the tape with numbers 1-9.\n",
    "\n",
    "The current tape is described below, the brackets represent the bounds of the tape so far.\n",
    "'''[1:-1]\n",
    "\n",
    "data_template='''\n",
    "Current tape:\n",
    "[{tape}]\n",
    "'''[:-1]\n",
    "\n",
    "llm.predict(prelude + data_template.format(state=\"Beginning of simulation, tape is blank!\", symbol=\"#\"))"
   ]
  },
  {
   "cell_type": "markdown",
   "metadata": {},
   "source": []
  }
 ],
 "metadata": {
  "kernelspec": {
   "display_name": "base",
   "language": "python",
   "name": "python3"
  },
  "language_info": {
   "codemirror_mode": {
    "name": "ipython",
    "version": 3
   },
   "file_extension": ".py",
   "mimetype": "text/x-python",
   "name": "python",
   "nbconvert_exporter": "python",
   "pygments_lexer": "ipython3",
   "version": "3.9.7"
  },
  "orig_nbformat": 4
 },
 "nbformat": 4,
 "nbformat_minor": 2
}
