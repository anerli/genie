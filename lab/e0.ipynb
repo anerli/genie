{
 "cells": [
  {
   "cell_type": "code",
   "execution_count": 2,
   "metadata": {},
   "outputs": [
    {
     "data": {
      "text/plain": [
       "True"
      ]
     },
     "execution_count": 2,
     "metadata": {},
     "output_type": "execute_result"
    }
   ],
   "source": [
    "from dotenv import load_dotenv\n",
    "\n",
    "load_dotenv()"
   ]
  },
  {
   "cell_type": "code",
   "execution_count": 6,
   "metadata": {},
   "outputs": [
    {
     "data": {
      "text/plain": [
       "'ADD(apple)'"
      ]
     },
     "execution_count": 6,
     "metadata": {},
     "output_type": "execute_result"
    }
   ],
   "source": [
    "from langchain.chat_models import ChatOpenAI\n",
    "from langchain.prompts import ChatPromptTemplate, SystemMessagePromptTemplate\n",
    "#from langchain.chains.openai_functions import create_structured_output_chain\n",
    "\n",
    "template='''\n",
    "You are an AI managing a set of objects.\n",
    "You can do the following:\n",
    "ADD(<item>): Add the provided object to the set.\n",
    "REMOVE(<item>): Remove the provided object from the set.\n",
    "DISPLAY(): Display the objects currently in the set.\n",
    "\n",
    "Your object is to produce the set: {\"apple\", \"banana\", \"orange\"}.\n",
    "Respond just with one command to execute.\n",
    "\n",
    "This is the first time you are running a command.\n",
    "'''\n",
    "\n",
    "llm = ChatOpenAI(temperature=.7)\n",
    "\n",
    "llm.predict(template)"
   ]
  },
  {
   "cell_type": "code",
   "execution_count": 14,
   "metadata": {},
   "outputs": [
    {
     "data": {
      "text/plain": [
       "'ADD(\"banana\")'"
      ]
     },
     "execution_count": 14,
     "metadata": {},
     "output_type": "execute_result"
    }
   ],
   "source": [
    "m2='''\n",
    "You are an AI managing a set of objects.\n",
    "You can do the following:\n",
    "ADD(<item>): Add the provided object to the set.\n",
    "REMOVE(<item>): Remove the provided object from the set.\n",
    "DISPLAY(): Display the objects currently in the set.\n",
    "\n",
    "Your object is to produce the set: {\"apple\", \"banana\", \"orange\"}.\n",
    "Respond just with one command to execute.\n",
    "\n",
    "This is your second instruction.\n",
    "Your last instruction was: ADD(\"apple\")\n",
    "'''\n",
    "llm.predict(m2)"
   ]
  },
  {
   "cell_type": "code",
   "execution_count": 15,
   "metadata": {},
   "outputs": [
    {
     "data": {
      "text/plain": [
       "'DISPLAY()'"
      ]
     },
     "execution_count": 15,
     "metadata": {},
     "output_type": "execute_result"
    }
   ],
   "source": [
    "m3='''\n",
    "You are an AI managing a set of objects.\n",
    "You can do the following:\n",
    "ADD(<item>): Add the provided object to the set.\n",
    "REMOVE(<item>): Remove the provided object from the set.\n",
    "DISPLAY(): Display the objects currently in the set.\n",
    "\n",
    "Your object is to produce the set: {\"apple\", \"banana\", \"orange\"}.\n",
    "Respond just with one command to execute.\n",
    "\n",
    "This is your third instruction.\n",
    "Your last instruction was: ADD(\"banana\")\n",
    "'''\n",
    "llm.predict(m3)"
   ]
  },
  {
   "cell_type": "code",
   "execution_count": 16,
   "metadata": {},
   "outputs": [
    {
     "data": {
      "text/plain": [
       "'ADD(\"orange\")'"
      ]
     },
     "execution_count": 16,
     "metadata": {},
     "output_type": "execute_result"
    }
   ],
   "source": [
    "m4='''\n",
    "You are an AI managing a set of objects.\n",
    "You can do the following:\n",
    "ADD(<item>): Add the provided object to the set.\n",
    "REMOVE(<item>): Remove the provided object from the set.\n",
    "DISPLAY(): Display the objects currently in the set.\n",
    "\n",
    "Your object is to produce the set: {\"apple\", \"banana\", \"orange\"}.\n",
    "Respond just with one command to execute.\n",
    "\n",
    "This is your fourth instruction.\n",
    "Your last instruction was: DISPLAY()\n",
    "The result is {\"apple\", \"banana\"}\n",
    "'''\n",
    "llm.predict(m4)"
   ]
  },
  {
   "cell_type": "code",
   "execution_count": 17,
   "metadata": {},
   "outputs": [
    {
     "data": {
      "text/plain": [
       "'DISPLAY()'"
      ]
     },
     "execution_count": 17,
     "metadata": {},
     "output_type": "execute_result"
    }
   ],
   "source": [
    "m5='''\n",
    "You are an AI managing a set of objects.\n",
    "You can do the following:\n",
    "ADD(<item>): Add the provided object to the set.\n",
    "REMOVE(<item>): Remove the provided object from the set.\n",
    "DISPLAY(): Display the objects currently in the set.\n",
    "\n",
    "Your object is to produce the set: {\"apple\", \"banana\", \"orange\"}.\n",
    "Respond just with one command to execute.\n",
    "\n",
    "This is your fifth instruction.\n",
    "Your last instruction was: ADD(\"orange\")\n",
    "'''\n",
    "llm.predict(m5)"
   ]
  },
  {
   "cell_type": "code",
   "execution_count": 20,
   "metadata": {},
   "outputs": [
    {
     "data": {
      "text/plain": [
       "'RETURN()'"
      ]
     },
     "execution_count": 20,
     "metadata": {},
     "output_type": "execute_result"
    }
   ],
   "source": [
    "m6='''\n",
    "You are an AI managing a set of objects.\n",
    "You can do the following:\n",
    "ADD(<item>): Add the provided object to the set.\n",
    "REMOVE(<item>): Remove the provided object from the set.\n",
    "DISPLAY(): Display the objects currently in the set.\n",
    "RETURN(): Return when done.\n",
    "\n",
    "Your object is to produce the set: {\"apple\", \"banana\", \"orange\"}.\n",
    "Respond just with one command to execute.\n",
    "\n",
    "This is your sixth instruction.\n",
    "Your last instruction was: DISPLAY()\n",
    "The result is {\"apple\", \"banana\", \"orange\"}\n",
    "'''\n",
    "llm.predict(m6)"
   ]
  }
 ],
 "metadata": {
  "kernelspec": {
   "display_name": "base",
   "language": "python",
   "name": "python3"
  },
  "language_info": {
   "codemirror_mode": {
    "name": "ipython",
    "version": 3
   },
   "file_extension": ".py",
   "mimetype": "text/x-python",
   "name": "python",
   "nbconvert_exporter": "python",
   "pygments_lexer": "ipython3",
   "version": "3.9.7"
  },
  "orig_nbformat": 4
 },
 "nbformat": 4,
 "nbformat_minor": 2
}
