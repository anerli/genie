{
 "cells": [
  {
   "cell_type": "code",
   "execution_count": 12,
   "metadata": {},
   "outputs": [],
   "source": [
    "from dotenv import load_dotenv\n",
    "from langchain.chat_models import ChatOpenAI\n",
    "from langchain.prompts import ChatPromptTemplate, SystemMessagePromptTemplate\n",
    "\n",
    "load_dotenv()\n",
    "llm = ChatOpenAI(temperature=0.0)"
   ]
  },
  {
   "cell_type": "code",
   "execution_count": 13,
   "metadata": {},
   "outputs": [
    {
     "data": {
      "text/plain": [
       "'READ main.py'"
      ]
     },
     "execution_count": 13,
     "metadata": {},
     "output_type": "execute_result"
    }
   ],
   "source": [
    "template='''\n",
    "You are an AI software engineer capable of reading/editing as well as running/testing programs.\n",
    "You are trying to create the following software:\n",
    "\n",
    "A program which finds and prints out prime numbers in increasing order.\n",
    "\n",
    "The project directory file structure is as follows:\n",
    "```\n",
    "main.py\n",
    "```\n",
    "\n",
    "Your possible actions are: \n",
    "READ <filepath>\n",
    "WRITE <filepath> <contents> \n",
    "RUN\n",
    "'''\n",
    "llm.predict(template)"
   ]
  },
  {
   "cell_type": "code",
   "execution_count": 16,
   "metadata": {},
   "outputs": [
    {
     "name": "stdout",
     "output_type": "stream",
     "text": [
      "WRITE main.py \"\"\"\n",
      "def is_prime(n):\n",
      "    if n <= 1:\n",
      "        return False\n",
      "    for i in range(2, int(n**0.5) + 1):\n",
      "        if n % i == 0:\n",
      "            return False\n",
      "    return True\n",
      "\n",
      "def find_primes(n):\n",
      "    primes = []\n",
      "    for i in range(2, n+1):\n",
      "        if is_prime(i):\n",
      "            primes.append(i)\n",
      "    return primes\n",
      "\n",
      "if __name__ == \"__main__\":\n",
      "    n = int(input(\"Enter a number: \"))\n",
      "    primes = find_primes(n)\n",
      "    print(\"Prime numbers up to\", n, \"are:\")\n",
      "    for prime in primes:\n",
      "        print(prime)\n",
      "\"\"\"\n",
      "\n",
      "RUN\n"
     ]
    }
   ],
   "source": [
    "m2='''\n",
    "You are an AI software engineer capable of reading/editing as well as running/testing programs.\n",
    "You are trying to create the following software:\n",
    "\n",
    "A program which finds and prints out prime numbers in increasing order.\n",
    "\n",
    "The project directory file structure is as follows:\n",
    "```\n",
    "main.py\n",
    "```\n",
    "\n",
    "You just read main.py, the contents are:\n",
    "```\n",
    "# TODO: Implement\n",
    "```\n",
    "\n",
    "Your possible actions are: \n",
    "READ <filepath>\n",
    "WRITE <filepath> <contents> \n",
    "RUN\n",
    "'''\n",
    "cmd = llm.predict(m2)\n",
    "print(cmd)"
   ]
  },
  {
   "cell_type": "code",
   "execution_count": 23,
   "metadata": {},
   "outputs": [
    {
     "name": "stdout",
     "output_type": "stream",
     "text": [
      "RUN\n"
     ]
    }
   ],
   "source": [
    "m3='''\n",
    "You are an AI software engineer capable of reading/editing as well as running/testing programs.\n",
    "You are to iterate on and test the program until you know it works, then report that it is finished.\n",
    "You are trying to create the following software:\n",
    "\n",
    "A program which finds and prints out prime numbers in increasing order.\n",
    "\n",
    "The project directory file structure is as follows:\n",
    "```\n",
    "main.py\n",
    "```\n",
    "\n",
    "You just wrote to main.py the following text:\n",
    "```\n",
    "def is_prime(n):\n",
    "    if n <= 1:\n",
    "        return False\n",
    "    for i in range(2, int(n**0.5) + 1):\n",
    "        if n % i == 0:\n",
    "            return False\n",
    "    return True\n",
    "\n",
    "def find_primes(limit):\n",
    "    primes = []\n",
    "    for num in range(2, limit + 1):\n",
    "        if is_prime(num):\n",
    "            primes.append(num)\n",
    "    return primes\n",
    "\n",
    "if __name__ == '__main__':\n",
    "    limit = int(input(\"Enter the upper limit: \"))\n",
    "    primes = find_primes(limit)\n",
    "    print(\"Prime numbers up to\", limit, \"are:\")\n",
    "    for prime in primes:\n",
    "        print(prime)\n",
    "```\n",
    "\n",
    "Your action history:\n",
    "```\n",
    "READ main.py\n",
    "WRITE main.py <contents shown above>\n",
    "```\n",
    "\n",
    "Your possible actions are: \n",
    "READ <filepath> : Get the contents of some file\n",
    "WRITE <filepath> <contents> : Overwrite the contents of a file\n",
    "RUN : Run main.py\n",
    "FINISH : Report that the program is completed\n",
    "'''\n",
    "cmd = llm.predict(m3)\n",
    "print(cmd)"
   ]
  },
  {
   "cell_type": "code",
   "execution_count": 24,
   "metadata": {},
   "outputs": [
    {
     "name": "stdout",
     "output_type": "stream",
     "text": [
      "READ main.py\n"
     ]
    }
   ],
   "source": [
    "m4='''\n",
    "You are an AI software engineer capable of reading/editing as well as running/testing programs.\n",
    "You are to iterate on and test the program until you know it works, then report that it is finished.\n",
    "You are trying to create the following software:\n",
    "\n",
    "A program which finds and prints out prime numbers in increasing order.\n",
    "\n",
    "The project directory file structure is as follows:\n",
    "```\n",
    "main.py\n",
    "```\n",
    "\n",
    "You just tested the program and got the following output:\n",
    "```\n",
    "Enter the upper limit: 100\n",
    "Prime numbers up to 100 are:\n",
    "2\n",
    "3\n",
    "5\n",
    "7\n",
    "11\n",
    "13\n",
    "17\n",
    "19\n",
    "23\n",
    "29\n",
    "31\n",
    "37\n",
    "41\n",
    "43\n",
    "47\n",
    "53\n",
    "59\n",
    "61\n",
    "67\n",
    "71\n",
    "73\n",
    "79\n",
    "83\n",
    "89\n",
    "97\n",
    "```\n",
    "\n",
    "Your action history:\n",
    "```\n",
    "READ main.py\n",
    "WRITE main.py <contents hidden>\n",
    "RUN\n",
    "```\n",
    "\n",
    "Your possible actions are: \n",
    "READ <filepath> : Get the contents of some file\n",
    "WRITE <filepath> <contents> : Overwrite the contents of a file\n",
    "RUN : Run main.py\n",
    "FINISH : Report that the program is completed\n",
    "'''\n",
    "cmd = llm.predict(m4)\n",
    "print(cmd)"
   ]
  },
  {
   "cell_type": "code",
   "execution_count": 31,
   "metadata": {},
   "outputs": [
    {
     "name": "stdout",
     "output_type": "stream",
     "text": [
      "WRITE main.py <contents hidden>\n"
     ]
    }
   ],
   "source": [
    "m5='''\n",
    "You are an AI software engineer capable of reading/editing as well as running/testing programs.\n",
    "You are to iterate on and test the program until you know it works, then report that it is finished.\n",
    "You are trying to create the following software:\n",
    "\n",
    "A program which finds and prints out prime numbers in increasing order.\n",
    "\n",
    "The project directory file structure is as follows:\n",
    "```\n",
    "main.py\n",
    "```\n",
    "\n",
    "You just read main.py, the contents are:\n",
    "```\n",
    "def is_prime(n):\n",
    "    if n <= 1:\n",
    "        return False\n",
    "    for i in range(2, int(n**0.5) + 1):\n",
    "        if n % i == 0:\n",
    "            return False\n",
    "    return True\n",
    "\n",
    "def find_primes(limit):\n",
    "    primes = []\n",
    "    for num in range(2, limit + 1):\n",
    "        if is_prime(num):\n",
    "            primes.append(num)\n",
    "    return primes\n",
    "\n",
    "if __name__ == '__main__':\n",
    "    limit = int(input(\"Enter the upper limit: \"))\n",
    "    primes = find_primes(limit)\n",
    "    print(\"Prime numbers up to\", limit, \"are:\")\n",
    "    for prime in primes:\n",
    "        print(prime)\n",
    "```\n",
    "\n",
    "Your action history:\n",
    "```\n",
    "READ main.py\n",
    "WRITE main.py <contents hidden>\n",
    "RUN\n",
    "READ main.py\n",
    "READ main.py\n",
    "READ main.py\n",
    "READ main.py\n",
    "READ main.py\n",
    "READ main.py\n",
    "READ main.py\n",
    "READ main.py\n",
    "```\n",
    "\n",
    "Why do you keep reading? You can see from the history you've read it several times, and the contents can be seen above.\n",
    "\n",
    "Your possible actions are: \n",
    "READ <filepath> : Get the contents of some file\n",
    "WRITE <filepath> <contents> : Overwrite the contents of a file\n",
    "RUN : Run main.py\n",
    "FINISH : Report that the program is completed\n",
    "'''\n",
    "cmd = llm.predict(m5)\n",
    "print(cmd)"
   ]
  },
  {
   "cell_type": "code",
   "execution_count": null,
   "metadata": {},
   "outputs": [],
   "source": [
    "# Yikes! It doesn't ever know its finished! I think it could be a lot more feasible if its train of thought\n",
    "# was captured across iterations.\n",
    "\n",
    "# Now, do something similar, but allow the agent a notebook to track its train of thought, and hopefully\n",
    "# prevent repetitive actions and provide a more consistent flow"
   ]
  },
  {
   "cell_type": "code",
   "execution_count": 35,
   "metadata": {},
   "outputs": [
    {
     "data": {
      "text/plain": [
       "'ACTION: READ main.py\\nNOTES: I need to read the contents of the main.py file to understand the existing code and determine how to implement the program to find and print prime numbers.'"
      ]
     },
     "execution_count": 35,
     "metadata": {},
     "output_type": "execute_result"
    }
   ],
   "source": [
    "template='''\n",
    "You are an AI software engineer capable of reading/editing as well as running/testing programs.\n",
    "You are trying to create the following software:\n",
    "\n",
    "A program which finds and prints out prime numbers in increasing order.\n",
    "\n",
    "The project directory file structure is as follows:\n",
    "```\n",
    "main.py\n",
    "```\n",
    "\n",
    "Your possible actions are: \n",
    "READ <filepath>\n",
    "WRITE <filepath> <contents> \n",
    "RUN\n",
    "\n",
    "You should also take notes about your thought process which you will retain while you develop the program.\n",
    "Record your thought process and any information that you think should be retained while you complete this task.\n",
    "\n",
    "Format your response as such:\n",
    "```\n",
    "ACTION: <action>\n",
    "NOTES: <notes>\n",
    "```\n",
    "\n",
    "Previous notes:\n",
    "(Beginning of development, notes are empty)\n",
    "'''\n",
    "llm.predict(template)"
   ]
  },
  {
   "cell_type": "code",
   "execution_count": null,
   "metadata": {},
   "outputs": [],
   "source": []
  }
 ],
 "metadata": {
  "kernelspec": {
   "display_name": "base",
   "language": "python",
   "name": "python3"
  },
  "language_info": {
   "codemirror_mode": {
    "name": "ipython",
    "version": 3
   },
   "file_extension": ".py",
   "mimetype": "text/x-python",
   "name": "python",
   "nbconvert_exporter": "python",
   "pygments_lexer": "ipython3",
   "version": "3.9.7"
  },
  "orig_nbformat": 4
 },
 "nbformat": 4,
 "nbformat_minor": 2
}
